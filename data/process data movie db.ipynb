{
 "cells": [
  {
   "cell_type": "code",
   "execution_count": 3,
   "metadata": {},
   "outputs": [],
   "source": [
    "import pandas as pd \n",
    "import numpy as np \n",
    "\n",
    "links_csv = pd.read_csv('ml-latest/links.csv')\n",
    "imdbID = links_csv['imdbId']\n",
    "imdbID = [ ('tt'+ str(i)) for i in imdbID]\n",
    "\n",
    "links = links_csv.drop(columns=['imdbId'])\n",
    "links['imdbID'] = imdbID\n",
    "\n",
    "# links.to_csv('links2.csv', index = False)     \n",
    "\n",
    "\n",
    "\n",
    "\n"
   ]
  },
  {
   "cell_type": "code",
   "execution_count": 3,
   "metadata": {},
   "outputs": [],
   "source": [
    "import pandas as pd \n",
    "import numpy as np \n",
    "\n",
    "tags_csv = pd.read_csv('ml-latest/tags.csv')\n",
    "userID = [ 44  for i in range(len(tags_csv['movieId']))]\n",
    "\n",
    "data_tags = {}\n",
    "data_tags = pd.DataFrame(data=data_tags)\n",
    "\n",
    "data_tags['userId'] = userID\n",
    "data_tags['movieId'] = tags_csv['movieId']\n",
    "data_tags['tag'] = tags_csv['tag']\n",
    "\n",
    "data_tags.to_csv('data_tags.csv', index = False)     \n",
    "\n"
   ]
  },
  {
   "cell_type": "code",
   "execution_count": 36,
   "metadata": {},
   "outputs": [],
   "source": [
    "import pandas as pd \n",
    "\n",
    "tags = pd.read_csv('data_tags.csv')\n",
    "\n",
    "tags.head(5)\n",
    "\n",
    "tags['id']= [i for i in range(400,len(tags['user_id_id'])+400)]\n",
    "tags['user_id_id'] = [44 for i in range(len(tags['user_id_id']))]\n",
    "tags.head(5)\n",
    "\n",
    "\n",
    "\n",
    "\n",
    "query = []\n",
    "\n",
    "for index, rows in tags.iterrows():\n",
    "    query.append( \"insert into movie_movietags values ({}, @{}@, @{}@, 44) ;\".format(rows['id'], rows['tags'], rows['movie_id_id']))\n",
    "\n",
    "# print(query)\n",
    "\n",
    "tags['query'] = query\n",
    "\n",
    "tags.to_csv('comunity_tags.csv',columns=['id', 'tags', 'movie_id_id', 'user_id_id', 'query'] , index=False)\n",
    "# "
   ]
  },
  {
   "cell_type": "code",
   "execution_count": 7,
   "metadata": {},
   "outputs": [
    {
     "name": "stdout",
     "output_type": "stream",
     "text": [
      "insert into movie_movietags values (1000, love story, tt1470827, 44) ;\n"
     ]
    }
   ],
   "source": [
    "import pandas as pd \n",
    "import numpy as np \n",
    "\n",
    "tags = pd.read_csv('data_tags.csv')\n",
    "\n",
    "tags['userId'] = [44 for i in range(len(tags['userId']))]\n",
    "\n",
    "data_tags = {}\n",
    "data_tags = pd.DataFrame(data=data_tags)\n",
    "\n",
    "data_tags['tags'] = tags['tag']\n",
    "data_tags['movie_id'] = tags['movieId']\n",
    "data_tags['user_id'] = tags['userId']\n",
    "data_tags['id'] = [i for i in range(1000,len(tags['userId'])+1000)]\n",
    "\n",
    "# data_tags.to_csv('DB_TAGS.csv',columns=['id', 'tags', 'movie_id', 'user_id',] , index= False)\n",
    "\n",
    "for index, rows in data_tags.iterrows():\n",
    "    print(\"insert into movie_movietags values ({}, {}, {}, {}) ;\"\\\n",
    "    .format(rows['id' rows['tags'], rows['movie_id'], rows['user_id']))\n",
    "    break\n"
   ]
  },
  {
   "cell_type": "code",
   "execution_count": null,
   "metadata": {},
   "outputs": [],
   "source": [
    "insert into movie_movietags (tags, movie_id, user_id) values ('love story', 'tt1470827', 44) ;\n"
   ]
  }
 ],
 "metadata": {
  "kernelspec": {
   "display_name": "Python 3",
   "language": "python",
   "name": "python3"
  },
  "language_info": {
   "codemirror_mode": {
    "name": "ipython",
    "version": 3
   },
   "file_extension": ".py",
   "mimetype": "text/x-python",
   "name": "python",
   "nbconvert_exporter": "python",
   "pygments_lexer": "ipython3",
   "version": "3.8.5"
  }
 },
 "nbformat": 4,
 "nbformat_minor": 4
}
