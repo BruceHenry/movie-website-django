{
 "cells": [
  {
   "cell_type": "code",
   "execution_count": 3,
   "metadata": {},
   "outputs": [],
   "source": [
    "import pandas as pd \n",
    "import numpy as np \n",
    "\n",
    "links_csv = pd.read_csv('ml-latest/links.csv')\n",
    "imdbID = links_csv['imdbId']\n",
    "imdbID = [ ('tt'+ str(i)) for i in imdbID]\n",
    "\n",
    "links = links_csv.drop(columns=['imdbId'])\n",
    "links['imdbID'] = imdbID\n",
    "\n",
    "# links.to_csv('links2.csv', index = False)     \n",
    "\n",
    "\n",
    "\n",
    "\n"
   ]
  },
  {
   "cell_type": "code",
   "execution_count": 6,
   "metadata": {},
   "outputs": [
    {
     "name": "stderr",
     "output_type": "stream",
     "text": [
      "IOPub data rate exceeded.\n",
      "The notebook server will temporarily stop sending output\n",
      "to the client in order to avoid crashing it.\n",
      "To change this limit, set the config variable\n",
      "`--NotebookApp.iopub_data_rate_limit`.\n",
      "\n",
      "Current values:\n",
      "NotebookApp.iopub_data_rate_limit=1000000.0 (bytes/sec)\n",
      "NotebookApp.rate_limit_window=3.0 (secs)\n",
      "\n"
     ]
    }
   ],
   "source": [
    "query = []\n",
    "\n",
    "for index, rows in links.iterrows():\n",
    "    query.append( \"insert into links values ({}, {}, {} ;\".format(rows['movieId'], rows['tmdbId'], rows['imdbID']))\n",
    "    \n",
    "\n",
    "print(query)"
   ]
  },
  {
   "cell_type": "code",
   "execution_count": 36,
   "metadata": {},
   "outputs": [],
   "source": [
    "import pandas as pd \n",
    "\n",
    "tags = pd.read_csv('data_tags.csv')\n",
    "\n",
    "tags.head(5)\n",
    "\n",
    "tags['id']= [i for i in range(400,len(tags['user_id_id'])+400)]\n",
    "tags['user_id_id'] = [44 for i in range(len(tags['user_id_id']))]\n",
    "tags.head(5)\n",
    "\n",
    "\n",
    "\n",
    "\n",
    "query = []\n",
    "\n",
    "for index, rows in tags.iterrows():\n",
    "    query.append( \"insert into movie_movietags values ({}, @{}@, @{}@, 44) ;\".format(rows['id'], rows['tags'], rows['movie_id_id']))\n",
    "\n",
    "# print(query)\n",
    "\n",
    "tags['query'] = query\n",
    "\n",
    "tags.to_csv('comunity_tags.csv',columns=['id', 'tags', 'movie_id_id', 'user_id_id', 'query'] , index=False)\n",
    "# "
   ]
  },
  {
   "cell_type": "code",
   "execution_count": null,
   "metadata": {},
   "outputs": [],
   "source": [
    "insert into movie_movietags values(400, 'Anne Hathaway', 'tt1345836', 44),(401, 'Christian Bale', 'tt1345836', 44),\n",
    "(402, 'Christopher Nolan', 'tt1345836', 44),(403, 'Morgan Freeman', 'tt1345836', 44);"
   ]
  }
 ],
 "metadata": {
  "kernelspec": {
   "display_name": "Python 3",
   "language": "python",
   "name": "python3"
  },
  "language_info": {
   "codemirror_mode": {
    "name": "ipython",
    "version": 3
   },
   "file_extension": ".py",
   "mimetype": "text/x-python",
   "name": "python",
   "nbconvert_exporter": "python",
   "pygments_lexer": "ipython3",
   "version": "3.8.5"
  }
 },
 "nbformat": 4,
 "nbformat_minor": 4
}
